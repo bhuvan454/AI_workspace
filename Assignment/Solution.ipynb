{
 "cells": [
  {
   "cell_type": "code",
   "execution_count": null,
   "id": "0cd831d0",
   "metadata": {},
   "outputs": [],
   "source": [
    "\n",
    "\n",
    "\n",
    "\n",
    "\n",
    "\n"
   ]
  },
  {
   "cell_type": "markdown",
   "id": "42b9dd40",
   "metadata": {},
   "source": [
    "\n",
    "<h2 style = \"font-size:35px; font-family:Garamond ; font-weight : normal; background-color: gold ; color : 'black'; text-align: left; border-radius: 2px 2px;pad:4px;\"> Problem Statement </h2>"
   ]
  },
  {
   "cell_type": "markdown",
   "id": "dc1bb0c2",
   "metadata": {},
   "source": [
    "<strong>Problem Statement:</strong>\n",
    "\n",
    "We have a lot of customer on our InvestorAI platform. Whenever they login in our app and view anything, we get pings from their mobile phone indicating that they are using the app.\n",
    "<br>\n",
    "You have been provided with 3 weeks of training data and 1 week of test data.\n",
    "<br>\n",
    "<br>\n",
    "<strong>About Data and Variables</strong>\n",
    "\n",
    "Training data contains id, gender, age, number of kids the customer has and all the pings that have been received (during the training data period).\n",
    "<br><br>\n",
    "<strong>Objective:</strong>\n",
    "\n",
    "We want to predict how many hours the customer will be online / using our app on a given day. So the test data contains customer id, and date (during the test data period).\n",
    "The test data also contains the actual online hours, which is what your model should predict.\n",
    "\n",
    "<strong>Evaluation Metric:</strong>\n",
    "\n",
    "We will be looking at Root Mean Squared Error or RMSE for short (lower the better) to see how good your model is.\n",
    "\n",
    "<strong> Special Note:</strong>\n",
    "\n",
    "We have a separate held out test dataset against which we will evaluate your model for overfitting, underfitting, etc."
   ]
  },
  {
   "cell_type": "markdown",
   "id": "75ae0dd9",
   "metadata": {},
   "source": [
    "<strong>Initial Insights: </strong>\n",
    "\n",
    "1. Looks like we are handling a raw data as custumer database and the activity are seperated out in the data itself. So few assumpitions and data cleaning could be needed ?\n",
    "2. Clearly given in the problem statement that we are going to handle a time related data for each customer.  This could be a multivariante time series problem with multiple timeseries. So modeling stategy and model building need to  be done to capture patterns, ( lets assume)\n",
    "3. Error metric is root mean squred error so its sensitive to small changes, can I optimize my model for better metric, root mean squared log error which is more reponsive to very fine changes?\n",
    "4. As there is another secret hold out set for validation for overfitting and underfitting, so can I hold few datapoints to check this prior?"
   ]
  },
  {
   "cell_type": "markdown",
   "id": "4fcfeed3",
   "metadata": {},
   "source": [
    "<p style = \"font-size:25px\"><strong>Lets Dive Into The Data....</strong></p>"
   ]
  },
  {
   "cell_type": "markdown",
   "id": "53312a88",
   "metadata": {},
   "source": [
    "\n",
    "<h2 style = \"font-size:35px; font-family:Garamond ; font-weight : normal; background-color: gold ; color : 'black'; text-align: left; border-radius: 2px 2px;pad:4px;\"> Data and Initial Stats </h2>"
   ]
  },
  {
   "cell_type": "markdown",
   "id": "2159a729",
   "metadata": {},
   "source": [
    "loading various module I am planning to use for this assignment"
   ]
  },
  {
   "cell_type": "code",
   "execution_count": 25,
   "id": "49171afc",
   "metadata": {},
   "outputs": [
    {
     "name": "stdout",
     "output_type": "stream",
     "text": [
      "Importing startred...\n",
      "Done,All the required modules are imported. Time elapsed: 0.0060040950775146484sec\n"
     ]
    }
   ],
   "source": [
    "#importing modules\n",
    "\n",
    "import warnings \n",
    "warnings.filterwarnings('ignore')\n",
    "\n",
    "import time\n",
    "t = time.time()\n",
    "\n",
    "print('Importing startred...')\n",
    "\n",
    "# base libraries\n",
    "import os\n",
    "import numpy as np\n",
    "import pandas as pd\n",
    "import re\n",
    "from scipy import stats\n",
    "from random import randint\n",
    "from datetime import datetime\n",
    "\n",
    "\n",
    "# visualization libraries\n",
    "import matplotlib.pyplot as plt\n",
    "import matplotlib \n",
    "%matplotlib inline\n",
    "import seaborn as sns\n",
    "import missingno as msno\n",
    "\n",
    "\n",
    "# preprocessing libraries\n",
    "from sklearn.model_selection import (TimeSeriesSplit,\n",
    "                                     GridSearchCV,\n",
    "                                     RandomizedSearchCV)\n",
    "\n",
    "from sklearn.preprocessing import (LabelEncoder,\n",
    "                                   StandardScaler, \n",
    "                                   MinMaxScaler, \n",
    "                                   OrdinalEncoder)\n",
    "\n",
    "from sklearn.feature_selection import SelectFromModel\n",
    "\n",
    "\n",
    "# metrics\n",
    "from sklearn.metrics import (mean_squared_error, \n",
    "                             r2_score, \n",
    "                             mean_absolute_error)\n",
    "from sklearn.metrics import make_scorer\n",
    "\n",
    "\n",
    "# modeling algos\n",
    "from sklearn.linear_model import (LogisticRegression,\n",
    "                                  Lasso, \n",
    "                                  ridge_regression,\n",
    "                                  LinearRegression)\n",
    "from sklearn.tree import DecisionTreeRegressor\n",
    "from sklearn.ensemble import (AdaBoostRegressor, \n",
    "                              RandomForestRegressor,\n",
    "                              VotingRegressor, \n",
    "                              GradientBoostingRegressor)\n",
    "from xgboost import XGBRegressor\n",
    "from lightgbm import (LGBMRegressor,\n",
    "                      early_stopping)\n",
    "\n",
    "from sklearn.base import clone ## sklearn base models for stacked ensemble model\n",
    "\n",
    "\n",
    "#Interpretiability of the model\n",
    "import shap\n",
    "import eli5\n",
    "from eli5.sklearn import PermutationImportance\n",
    "\n",
    "\n",
    "## misea\n",
    "from sklearn.pipeline import make_pipeline\n",
    "\n",
    "\n",
    "\n",
    "print('Done,All the required modules are imported. Time elapsed: {}sec'.format(time.time()-t))"
   ]
  },
  {
   "cell_type": "markdown",
   "id": "11b670bc",
   "metadata": {},
   "source": [
    "<p style = \"font-size:25px\"><strong>Lets load the data and visualize it for basic understanding....</strong></p>"
   ]
  },
  {
   "cell_type": "code",
   "execution_count": 22,
   "id": "83c57d96",
   "metadata": {},
   "outputs": [],
   "source": [
    "# loading data\n",
    "\n",
    "customer_df = pd.read_csv('./data/customers.csv', delimiter = ',', encoding = 'utf-8')\n",
    "pings_df = pd.read_csv('./data/pings.csv', delimiter = ',', encoding = 'utf-8')\n",
    "test_df = pd.read_csv('./data/test.csv', delimiter = ',', encoding = 'utf-8')"
   ]
  },
  {
   "cell_type": "code",
   "execution_count": 23,
   "id": "dd28d9c8",
   "metadata": {},
   "outputs": [
    {
     "data": {
      "text/html": [
       "<div>\n",
       "<style scoped>\n",
       "    .dataframe tbody tr th:only-of-type {\n",
       "        vertical-align: middle;\n",
       "    }\n",
       "\n",
       "    .dataframe tbody tr th {\n",
       "        vertical-align: top;\n",
       "    }\n",
       "\n",
       "    .dataframe thead th {\n",
       "        text-align: right;\n",
       "    }\n",
       "</style>\n",
       "<table border=\"1\" class=\"dataframe\">\n",
       "  <thead>\n",
       "    <tr style=\"text-align: right;\">\n",
       "      <th></th>\n",
       "      <th>id</th>\n",
       "      <th>gender</th>\n",
       "      <th>age</th>\n",
       "      <th>number_of_kids</th>\n",
       "    </tr>\n",
       "  </thead>\n",
       "  <tbody>\n",
       "    <tr>\n",
       "      <th>0</th>\n",
       "      <td>979863</td>\n",
       "      <td>MALE</td>\n",
       "      <td>26</td>\n",
       "      <td>2</td>\n",
       "    </tr>\n",
       "    <tr>\n",
       "      <th>1</th>\n",
       "      <td>780123</td>\n",
       "      <td>MALE</td>\n",
       "      <td>60</td>\n",
       "      <td>2</td>\n",
       "    </tr>\n",
       "  </tbody>\n",
       "</table>\n",
       "</div>"
      ],
      "text/plain": [
       "       id gender  age  number_of_kids\n",
       "0  979863   MALE   26               2\n",
       "1  780123   MALE   60               2"
      ]
     },
     "execution_count": 23,
     "metadata": {},
     "output_type": "execute_result"
    }
   ],
   "source": [
    "customer_df.head(2)"
   ]
  },
  {
   "cell_type": "code",
   "execution_count": 24,
   "id": "96ce87bf",
   "metadata": {},
   "outputs": [
    {
     "data": {
      "text/html": [
       "<div>\n",
       "<style scoped>\n",
       "    .dataframe tbody tr th:only-of-type {\n",
       "        vertical-align: middle;\n",
       "    }\n",
       "\n",
       "    .dataframe tbody tr th {\n",
       "        vertical-align: top;\n",
       "    }\n",
       "\n",
       "    .dataframe thead th {\n",
       "        text-align: right;\n",
       "    }\n",
       "</style>\n",
       "<table border=\"1\" class=\"dataframe\">\n",
       "  <thead>\n",
       "    <tr style=\"text-align: right;\">\n",
       "      <th></th>\n",
       "      <th>id</th>\n",
       "      <th>timestamp</th>\n",
       "    </tr>\n",
       "  </thead>\n",
       "  <tbody>\n",
       "    <tr>\n",
       "      <th>0</th>\n",
       "      <td>899313</td>\n",
       "      <td>1496278800</td>\n",
       "    </tr>\n",
       "    <tr>\n",
       "      <th>1</th>\n",
       "      <td>373017</td>\n",
       "      <td>1496278800</td>\n",
       "    </tr>\n",
       "  </tbody>\n",
       "</table>\n",
       "</div>"
      ],
      "text/plain": [
       "       id   timestamp\n",
       "0  899313  1496278800\n",
       "1  373017  1496278800"
      ]
     },
     "execution_count": 24,
     "metadata": {},
     "output_type": "execute_result"
    }
   ],
   "source": [
    "pings_df.head(2)"
   ]
  },
  {
   "cell_type": "code",
   "execution_count": 26,
   "id": "9b5ded46",
   "metadata": {},
   "outputs": [
    {
     "data": {
      "text/html": [
       "<div>\n",
       "<style scoped>\n",
       "    .dataframe tbody tr th:only-of-type {\n",
       "        vertical-align: middle;\n",
       "    }\n",
       "\n",
       "    .dataframe tbody tr th {\n",
       "        vertical-align: top;\n",
       "    }\n",
       "\n",
       "    .dataframe thead th {\n",
       "        text-align: right;\n",
       "    }\n",
       "</style>\n",
       "<table border=\"1\" class=\"dataframe\">\n",
       "  <thead>\n",
       "    <tr style=\"text-align: right;\">\n",
       "      <th></th>\n",
       "      <th>id</th>\n",
       "      <th>date</th>\n",
       "      <th>online_hours</th>\n",
       "    </tr>\n",
       "  </thead>\n",
       "  <tbody>\n",
       "    <tr>\n",
       "      <th>0</th>\n",
       "      <td>979863</td>\n",
       "      <td>28/06/17</td>\n",
       "      <td>7</td>\n",
       "    </tr>\n",
       "    <tr>\n",
       "      <th>1</th>\n",
       "      <td>979863</td>\n",
       "      <td>27/06/17</td>\n",
       "      <td>9</td>\n",
       "    </tr>\n",
       "  </tbody>\n",
       "</table>\n",
       "</div>"
      ],
      "text/plain": [
       "       id      date  online_hours\n",
       "0  979863  28/06/17             7\n",
       "1  979863  27/06/17             9"
      ]
     },
     "execution_count": 26,
     "metadata": {},
     "output_type": "execute_result"
    }
   ],
   "source": [
    "test_df.head(2)"
   ]
  },
  {
   "cell_type": "code",
   "execution_count": null,
   "id": "bc6f026c",
   "metadata": {},
   "outputs": [],
   "source": []
  }
 ],
 "metadata": {
  "kernelspec": {
   "display_name": "Python 3",
   "language": "python",
   "name": "python3"
  },
  "language_info": {
   "codemirror_mode": {
    "name": "ipython",
    "version": 3
   },
   "file_extension": ".py",
   "mimetype": "text/x-python",
   "name": "python",
   "nbconvert_exporter": "python",
   "pygments_lexer": "ipython3",
   "version": "3.7.10"
  }
 },
 "nbformat": 4,
 "nbformat_minor": 5
}
